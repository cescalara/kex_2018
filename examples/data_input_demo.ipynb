{
 "cells": [
  {
   "cell_type": "markdown",
   "metadata": {},
   "source": [
    "# data_input_demo\n",
    "\n",
    "Quick demo on the preprocessing and labelling of data for use with the TFLearn API (http://tflearn.org/)\n",
    "Based on [this](https://github.com/tflearn/tflearn/blob/master/examples/images/convnet_cifar10.py) TFLearn example   \n",
    "\n",
    "tested with: \n",
    "* python 2.7\n",
    "* tensorflow v1.5.0  \n",
    "* tflearn v0.3.2"
   ]
  },
  {
   "cell_type": "code",
   "execution_count": 3,
   "metadata": {},
   "outputs": [],
   "source": [
    "# For python 2.7\n",
    "from __future__ import division, print_function, absolute_import\n",
    "\n",
    "# TFLearn\n",
    "import tflearn\n",
    "from tflearn.data_utils import shuffle, to_categorical\n",
    "from tflearn.layers.core import input_data, dropout, fully_connected\n",
    "from tflearn.layers.conv import conv_2d, max_pool_2d\n",
    "from tflearn.layers.estimator import regression\n",
    "from tflearn.data_preprocessing import ImagePreprocessing\n",
    "from tflearn.data_augmentation import ImageAugmentation"
   ]
  },
  {
   "cell_type": "markdown",
   "metadata": {},
   "source": [
    "Download the [CIFAR10](https://www.cs.toronto.edu/~kriz/cifar.html) dataset\n",
    "\n",
    "* 60,000 tiny (32 x 32) images\n",
    "* There are 10 different classes of image, and 6000 images of each class (see link)\n",
    "* The types are mutually exclusive\n",
    "* 5 training batches and one test batch\n",
    "    \n",
    "We will download both training and testing (validation) data "
   ]
  },
  {
   "cell_type": "code",
   "execution_count": 14,
   "metadata": {},
   "outputs": [],
   "source": [
    "from tflearn.datasets import cifar10\n",
    "(data, labels), (test_data, test_labels) = cifar10.load_data()"
   ]
  },
  {
   "cell_type": "markdown",
   "metadata": {},
   "source": [
    "Have a look at the data and labels, to understand the format. We see that:\n",
    "\n",
    "* Data and labels are python lists\n",
    "* For each list entry, data has an 32x32x3 array (3 colours for each pixel in a 32x32 image)\n",
    "* Labels is a list of labels, with the label values being 0 - 9 (10 classes of image)"
   ]
  },
  {
   "cell_type": "code",
   "execution_count": 28,
   "metadata": {},
   "outputs": [
    {
     "name": "stdout",
     "output_type": "stream",
     "text": [
      "data:  (50000, 32, 32, 3)\n",
      "data[0][:][:][0]:  [[0.23137255 0.24313725 0.24705882]\n",
      " [0.16862745 0.18039216 0.17647059]\n",
      " [0.19607843 0.18823529 0.16862745]\n",
      " [0.26666667 0.21176471 0.16470588]\n",
      " [0.38431373 0.28627451 0.20392157]\n",
      " [0.46666667 0.35686275 0.24705882]\n",
      " [0.54509804 0.41960784 0.29411765]\n",
      " [0.56862745 0.43137255 0.31372549]\n",
      " [0.58431373 0.45882353 0.34901961]\n",
      " [0.58431373 0.47058824 0.36470588]\n",
      " [0.51372549 0.40392157 0.30196078]\n",
      " [0.49019608 0.38823529 0.29803922]\n",
      " [0.55686275 0.45098039 0.35686275]\n",
      " [0.56470588 0.43921569 0.3372549 ]\n",
      " [0.5372549  0.41176471 0.30980392]\n",
      " [0.50588235 0.38039216 0.27843137]\n",
      " [0.5372549  0.41568627 0.30980392]\n",
      " [0.5254902  0.41568627 0.29803922]\n",
      " [0.48627451 0.38039216 0.25098039]\n",
      " [0.54509804 0.44313725 0.30588235]\n",
      " [0.54509804 0.43921569 0.29411765]\n",
      " [0.52156863 0.41176471 0.27058824]\n",
      " [0.53333333 0.41176471 0.29019608]\n",
      " [0.54509804 0.42352941 0.30196078]\n",
      " [0.59607843 0.47058824 0.34901961]\n",
      " [0.63921569 0.51372549 0.39215686]\n",
      " [0.65882353 0.53333333 0.42352941]\n",
      " [0.62352941 0.50588235 0.4       ]\n",
      " [0.61960784 0.50980392 0.40784314]\n",
      " [0.61960784 0.51764706 0.42352941]\n",
      " [0.59607843 0.49019608 0.4       ]\n",
      " [0.58039216 0.48627451 0.40392157]]\n",
      "\n",
      "labels:  (50000,)\n",
      "labels[0:10]:  [6 9 9 4 1 1 2 7 8 3]\n",
      "maximum value of labels:  9\n",
      "minimum value of labels:  0\n",
      "\n",
      "Look at a random image:\n",
      "this image has label:  0\n"
     ]
    },
    {
     "data": {
      "image/png": "[encoded data removed]",
      "text/plain": [
       "<matplotlib.figure.Figure at 0x14cb71590>"
      ]
     },
     "metadata": {},
     "output_type": "display_data"
    }
   ],
   "source": [
    "import numpy as np\n",
    "%matplotlib inline\n",
    "from matplotlib import pyplot as plt\n",
    "\n",
    "print (\"data: \", np.shape(data))\n",
    "print (\"data[0][:][:][0]: \", data[0][:][:][0])\n",
    "print (\"\")\n",
    "print (\"labels: \", np.shape(labels))\n",
    "print (\"labels[0:10]: \", labels[0:10])\n",
    "print (\"maximum value of labels: \", np.max(labels))\n",
    "print (\"minimum value of labels: \", np.min(labels))\n",
    "print (\"\")\n",
    "print (\"Look at a random image:\")\n",
    "# look at a random image\n",
    "N = np.shape(data)[0] # number of images\n",
    "ranN = int(np.random.uniform(0, N))\n",
    "plt.imshow(data[ranN])\n",
    "plt.title(\"Random image from CIFAR10\")\n",
    "\n",
    "# and its corresponding label\n",
    "print (\"this image has label: \", labels[ranN])"
   ]
  },
  {
   "cell_type": "markdown",
   "metadata": {},
   "source": [
    "Now we understand what the data look like, how can we input this to a network?\n",
    "\n",
    "Following the TFLearn example, we eventually come to:\n",
    "```\n",
    "model = tflearn.DNN(network, tensorboard_verbose=0)\n",
    "model.fit(data, labels, etc...)\n",
    "```\n",
    "\n",
    "So the next step: \n",
    "\n",
    "* How can we apply this to our data set? \n",
    "* What preprocessing will need to be done?\n",
    "* Can you write a simple function to do this preprocessing?"
   ]
  },
  {
   "cell_type": "code",
   "execution_count": null,
   "metadata": {},
   "outputs": [],
   "source": []
  }
 ],
 "metadata": {
  "kernelspec": {
   "display_name": "Python (workdir)",
   "language": "python",
   "name": "workdir"
  },
  "language_info": {
   "codemirror_mode": {
    "name": "ipython",
    "version": 2
   },
   "file_extension": ".py",
   "mimetype": "text/x-python",
   "name": "python",
   "nbconvert_exporter": "python",
   "pygments_lexer": "ipython2",
   "version": "2.7.13"
  }
 },
 "nbformat": 4,
 "nbformat_minor": 2
}
