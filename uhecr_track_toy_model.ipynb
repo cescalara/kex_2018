{
 "cells": [
  {
   "cell_type": "markdown",
   "metadata": {},
   "source": [
    "# Toy model for UHECR track generation"
   ]
  },
  {
   "cell_type": "code",
   "execution_count": 1,
   "metadata": {},
   "outputs": [],
   "source": [
    "%matplotlib inline\n",
    "\n",
    "from generate_sample_frames import *"
   ]
  },
  {
   "cell_type": "code",
   "execution_count": 2,
   "metadata": {},
   "outputs": [
    {
     "name": "stdout",
     "output_type": "stream",
     "text": [
      "generated 10 of tracks\n",
      "displaying a random sample of 10 background frames: \n"
     ]
    },
    {
     "data": {
      "image/png": "[encoded data removed]",
      "text/plain": [
       "<matplotlib.figure.Figure at 0x10c4e6b50>"
      ]
     },
     "metadata": {},
     "output_type": "display_data"
    }
   ],
   "source": [
    "with SampleGenerator() as generator:\n",
    "    generator.tracks() "
   ]
  },
  {
   "cell_type": "markdown",
   "metadata": {},
   "source": [
    "## Fixed definitions"
   ]
  },
  {
   "cell_type": "code",
   "execution_count": null,
   "metadata": {},
   "outputs": [],
   "source": [
    "# frame size\n",
    "N_ROW = 48\n",
    "N_COL = 48\n",
    "\n",
    "# mean background level\n",
    "MU_BG = 1 # photon/pixel/GTU\n",
    "\n",
    "# number of frames to be generated\n",
    "N_FRAME = 10"
   ]
  },
  {
   "cell_type": "markdown",
   "metadata": {},
   "source": [
    "## Configurable parameters"
   ]
  },
  {
   "cell_type": "code",
   "execution_count": null,
   "metadata": {},
   "outputs": [],
   "source": [
    "# configurable parameter definition for tracks\n",
    "# start position pixel coordinates\n",
    "start_pos_min = 5\n",
    "start_pos_max = 43\n",
    "\n",
    "# length distribution (Gaussian)\n",
    "mu_l = 20\n",
    "sigma_l = 4\n",
    "\n",
    "# width distribution (Gaussian)\n",
    "mu_w = 3\n",
    "sigma_w = 1\n",
    "\n",
    "# angular distribtution (Uniform)\n",
    "theta_min = 0\n",
    "theta_max = 2 * np.pi\n",
    "phi_min = 0\n",
    "phi_max = np.pi / 2\n",
    "\n",
    "# counts distibution (Gaussian)\n",
    "mu_c = 15\n",
    "sigma_c = 3"
   ]
  },
  {
   "cell_type": "markdown",
   "metadata": {},
   "source": [
    "## Set up"
   ]
  },
  {
   "cell_type": "code",
   "execution_count": null,
   "metadata": {},
   "outputs": [],
   "source": [
    "print \"Generated\", 1 , \"frames\""
   ]
  },
  {
   "cell_type": "markdown",
   "metadata": {},
   "source": [
    "## Background generation\n",
    "Generate reasonable background frames from a poisson distribution centred on 1 (see: Adams, J.H., Jr et al., 2013. An evaluation of the exposure in nadir observation of the JEM-EUSO mission. Astroparticle Physics, 44, pp.76–90.)"
   ]
  },
  {
   "cell_type": "code",
   "execution_count": null,
   "metadata": {},
   "outputs": [],
   "source": [
    "# sample from poisson to fill background frames\n",
    "samples = np.random.poisson(mu_bg, N_ROW * N_COL * N_FRAME)\n",
    "bg_frames = np.reshape(samples, (N_FRAME, N_ROW, N_COL))\n",
    "\n",
    "# plot first frame to check\n",
    "plt.imshow(bg_frames[0])\n",
    "plt.colorbar()"
   ]
  },
  {
   "cell_type": "markdown",
   "metadata": {},
   "source": [
    "## Track generation\n",
    "Generate UHECR-like tracks based on a simple toy model \n",
    "\n",
    "Parameters describing the track:\n",
    "* start_position: pixel coordinates of starting position of the track\n",
    "* length: in pixels\n",
    "* width: in pixels\n",
    "* theta: rotation angle (0 - 360 deg)\n",
    "* phi: incidence angle (0, 45, 90 deg)\n",
    "* brightness: in counts"
   ]
  },
  {
   "cell_type": "code",
   "execution_count": null,
   "metadata": {},
   "outputs": [],
   "source": [
    "# sample parameters from their distibutions\n",
    "start_position = np.around(np.random.uniform(start_pos_min, start_pos_max, 2)).astype(int)\n",
    "length = round(np.random.normal(mu_l, sigma_l, 1))\n",
    "width = int(round(np.random.normal(mu_w, sigma_w, 1)))\n",
    "theta = np.random.uniform(theta_min, theta_max, 1)\n",
    "phi = np.random.uniform(phi_min, phi_max, 1)\n",
    "counts = round(np.random.normal(mu_c, sigma_c, 1))\n",
    "\n",
    "# calculate end position\n",
    "end_position = np.zeros(2)\n",
    "end_position[0] = start_position[0] + length * np.cos(theta)\n",
    "if end_position[0] > 45:\n",
    "    end_position[0] = 45\n",
    "if end_position[0] < 0:\n",
    "    end_position[0] = 0\n",
    "end_position[1] = start_position[1] + length * np.sin(theta)\n",
    "if end_position[1] > 45:\n",
    "    end_position[1] = 45 \n",
    "if end_position[1] < 0:\n",
    "    end_position[1] = 0\n",
    "end_position = np.around(end_position).astype(int)"
   ]
  },
  {
   "cell_type": "code",
   "execution_count": null,
   "metadata": {},
   "outputs": [],
   "source": [
    "#draw the line on the frame\n",
    "from skimage.draw import line_aa\n",
    "track_frame = np.zeros((48, 48), dtype=np.uint8)\n",
    "\n",
    "\n",
    "for w in range(1): \n",
    "    rr, cc, val = line_aa(start_position[0] + w, start_position[1], end_position[0] + w, end_position[1])\n",
    "    bright_tmp = counts \n",
    "    # give decreasing brightness\n",
    "    for i in range(len(val)):\n",
    "        track_frame[rr[i], cc[i]] = val[i] * bright_tmp\n",
    "        if i%6 == 0:\n",
    "            bright_tmp = bright_tmp - 1\n",
    "        if bright_tmp < 0:\n",
    "            bright_tmp = 0\n",
    "\n",
    "# add background\n",
    "samples = np.random.poisson(1, N_ROW*N_COL)\n",
    "bg_frame = np.reshape(samples, (N_ROW, N_COL))\n",
    "track_frame = track_frame + bg_frame\n",
    "\n",
    "\n",
    "#plot to check\n",
    "plt.imshow(track_frame, origin = \"lower\")\n",
    "plt.colorbar()\n",
    "\n",
    "print "
   ]
  },
  {
   "cell_type": "code",
   "execution_count": null,
   "metadata": {},
   "outputs": [],
   "source": [
    "# Add thickness and incidence angle\n",
    "# Tidy into class\n",
    "# Write out to file for student "
   ]
  },
  {
   "cell_type": "code",
   "execution_count": null,
   "metadata": {},
   "outputs": [],
   "source": [
    "with SampleGenerator() as generator:\n",
    "    generator.background() "
   ]
  },
  {
   "cell_type": "code",
   "execution_count": null,
   "metadata": {},
   "outputs": [],
   "source": []
  }
 ],
 "metadata": {
  "kernelspec": {
   "display_name": "Python 2",
   "language": "python",
   "name": "python2"
  },
  "language_info": {
   "codemirror_mode": {
    "name": "ipython",
    "version": 2
   },
   "file_extension": ".py",
   "mimetype": "text/x-python",
   "name": "python",
   "nbconvert_exporter": "python",
   "pygments_lexer": "ipython2",
   "version": "2.7.13"
  }
 },
 "nbformat": 4,
 "nbformat_minor": 2
}
